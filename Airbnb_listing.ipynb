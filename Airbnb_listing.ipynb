{
 "cells": [
  {
   "cell_type": "markdown",
   "metadata": {},
   "source": [
    "### Aim:\n",
    "\n",
    "To build machine learning models that would help in predicing the pricing of data on Airbnb"
   ]
  },
  {
   "cell_type": "markdown",
   "metadata": {},
   "source": [
    "### Exploratory Data Analysis"
   ]
  },
  {
   "cell_type": "markdown",
   "metadata": {},
   "source": [
    "EDA is a set of statistical approaches to explore and understand data beyond hypothesis testing and experimentation. It unearth any underlying insights. The goal of this step is to understand the dataset, identify the missing values & outliers if any using visual and quantitative methods to get a sense of the story it tells. It suggests the next logical steps, questions or areas of research for your project. It is always better to explore each data set using multiple exploratory techniques and compare the results. \n",
    "\n",
    "##### Steps of Exploratory Data Analysis:\n",
    "1. Identification of variables and data types\n",
    "2. Non- Graphical univariate analysis\n",
    "3. Cleaning data -> missing data, normalization, scaling etc\n",
    "4. Graphical univariate analysis\n",
    "5. Outlier treatment\n",
    "6. Correlation Analysis\n"
   ]
  },
  {
   "cell_type": "markdown",
   "metadata": {},
   "source": [
    "##### 1. Identification of variables and data types"
   ]
  },
  {
   "cell_type": "code",
   "execution_count": 1,
   "metadata": {},
   "outputs": [],
   "source": [
    "import numpy as np\n",
    "import pandas as pd\n",
    "import math\n",
    "import matplotlib.pyplot as plt"
   ]
  },
  {
   "cell_type": "code",
   "execution_count": 2,
   "metadata": {},
   "outputs": [
    {
     "data": {
      "text/html": [
       "<div>\n",
       "<style scoped>\n",
       "    .dataframe tbody tr th:only-of-type {\n",
       "        vertical-align: middle;\n",
       "    }\n",
       "\n",
       "    .dataframe tbody tr th {\n",
       "        vertical-align: top;\n",
       "    }\n",
       "\n",
       "    .dataframe thead th {\n",
       "        text-align: right;\n",
       "    }\n",
       "</style>\n",
       "<table border=\"1\" class=\"dataframe\">\n",
       "  <thead>\n",
       "    <tr style=\"text-align: right;\">\n",
       "      <th></th>\n",
       "      <th>id</th>\n",
       "      <th>name</th>\n",
       "      <th>host_id</th>\n",
       "      <th>host_name</th>\n",
       "      <th>neighbourhood_group</th>\n",
       "      <th>neighbourhood</th>\n",
       "      <th>latitude</th>\n",
       "      <th>longitude</th>\n",
       "      <th>room_type</th>\n",
       "      <th>price</th>\n",
       "      <th>minimum_nights</th>\n",
       "      <th>number_of_reviews</th>\n",
       "      <th>last_review</th>\n",
       "      <th>reviews_per_month</th>\n",
       "      <th>calculated_host_listings_count</th>\n",
       "      <th>availability_365</th>\n",
       "    </tr>\n",
       "  </thead>\n",
       "  <tbody>\n",
       "    <tr>\n",
       "      <th>0</th>\n",
       "      <td>2818</td>\n",
       "      <td>Quiet Garden View Room &amp; Super Fast WiFi</td>\n",
       "      <td>3159</td>\n",
       "      <td>Daniel</td>\n",
       "      <td>NaN</td>\n",
       "      <td>Oostelijk Havengebied - Indische Buurt</td>\n",
       "      <td>52.36575</td>\n",
       "      <td>4.94142</td>\n",
       "      <td>Private room</td>\n",
       "      <td>59</td>\n",
       "      <td>3</td>\n",
       "      <td>278</td>\n",
       "      <td>2020-02-14</td>\n",
       "      <td>2.04</td>\n",
       "      <td>1</td>\n",
       "      <td>158</td>\n",
       "    </tr>\n",
       "    <tr>\n",
       "      <th>1</th>\n",
       "      <td>9693</td>\n",
       "      <td>Top Location on Canal (Center Flat)</td>\n",
       "      <td>32366</td>\n",
       "      <td>Sabine And Sander</td>\n",
       "      <td>NaN</td>\n",
       "      <td>Centrum-West</td>\n",
       "      <td>52.37802</td>\n",
       "      <td>4.89270</td>\n",
       "      <td>Entire home/apt</td>\n",
       "      <td>119</td>\n",
       "      <td>3</td>\n",
       "      <td>55</td>\n",
       "      <td>2018-06-29</td>\n",
       "      <td>0.44</td>\n",
       "      <td>1</td>\n",
       "      <td>17</td>\n",
       "    </tr>\n",
       "    <tr>\n",
       "      <th>2</th>\n",
       "      <td>20168</td>\n",
       "      <td>Studio with private bathroom in the centre 1</td>\n",
       "      <td>59484</td>\n",
       "      <td>Alexander</td>\n",
       "      <td>NaN</td>\n",
       "      <td>Centrum-Oost</td>\n",
       "      <td>52.36509</td>\n",
       "      <td>4.89354</td>\n",
       "      <td>Private room</td>\n",
       "      <td>100</td>\n",
       "      <td>1</td>\n",
       "      <td>340</td>\n",
       "      <td>2020-04-09</td>\n",
       "      <td>2.72</td>\n",
       "      <td>2</td>\n",
       "      <td>31</td>\n",
       "    </tr>\n",
       "    <tr>\n",
       "      <th>3</th>\n",
       "      <td>25428</td>\n",
       "      <td>Lovely apt in City Centre (w.lift) near Jordaan</td>\n",
       "      <td>56142</td>\n",
       "      <td>Joan</td>\n",
       "      <td>NaN</td>\n",
       "      <td>Centrum-West</td>\n",
       "      <td>52.37297</td>\n",
       "      <td>4.88339</td>\n",
       "      <td>Entire home/apt</td>\n",
       "      <td>125</td>\n",
       "      <td>14</td>\n",
       "      <td>5</td>\n",
       "      <td>2020-02-09</td>\n",
       "      <td>0.17</td>\n",
       "      <td>1</td>\n",
       "      <td>212</td>\n",
       "    </tr>\n",
       "    <tr>\n",
       "      <th>4</th>\n",
       "      <td>27886</td>\n",
       "      <td>Romantic, stylish B&amp;B houseboat in canal district</td>\n",
       "      <td>97647</td>\n",
       "      <td>Flip</td>\n",
       "      <td>NaN</td>\n",
       "      <td>Centrum-West</td>\n",
       "      <td>52.38761</td>\n",
       "      <td>4.89188</td>\n",
       "      <td>Private room</td>\n",
       "      <td>135</td>\n",
       "      <td>2</td>\n",
       "      <td>217</td>\n",
       "      <td>2020-03-02</td>\n",
       "      <td>2.12</td>\n",
       "      <td>1</td>\n",
       "      <td>235</td>\n",
       "    </tr>\n",
       "  </tbody>\n",
       "</table>\n",
       "</div>"
      ],
      "text/plain": [
       "      id                                               name  host_id  \\\n",
       "0   2818           Quiet Garden View Room & Super Fast WiFi     3159   \n",
       "1   9693                Top Location on Canal (Center Flat)    32366   \n",
       "2  20168       Studio with private bathroom in the centre 1    59484   \n",
       "3  25428    Lovely apt in City Centre (w.lift) near Jordaan    56142   \n",
       "4  27886  Romantic, stylish B&B houseboat in canal district    97647   \n",
       "\n",
       "           host_name  neighbourhood_group  \\\n",
       "0             Daniel                  NaN   \n",
       "1  Sabine And Sander                  NaN   \n",
       "2          Alexander                  NaN   \n",
       "3               Joan                  NaN   \n",
       "4               Flip                  NaN   \n",
       "\n",
       "                            neighbourhood  latitude  longitude  \\\n",
       "0  Oostelijk Havengebied - Indische Buurt  52.36575    4.94142   \n",
       "1                            Centrum-West  52.37802    4.89270   \n",
       "2                            Centrum-Oost  52.36509    4.89354   \n",
       "3                            Centrum-West  52.37297    4.88339   \n",
       "4                            Centrum-West  52.38761    4.89188   \n",
       "\n",
       "         room_type  price  minimum_nights  number_of_reviews last_review  \\\n",
       "0     Private room     59               3                278  2020-02-14   \n",
       "1  Entire home/apt    119               3                 55  2018-06-29   \n",
       "2     Private room    100               1                340  2020-04-09   \n",
       "3  Entire home/apt    125              14                  5  2020-02-09   \n",
       "4     Private room    135               2                217  2020-03-02   \n",
       "\n",
       "   reviews_per_month  calculated_host_listings_count  availability_365  \n",
       "0               2.04                               1               158  \n",
       "1               0.44                               1                17  \n",
       "2               2.72                               2                31  \n",
       "3               0.17                               1               212  \n",
       "4               2.12                               1               235  "
      ]
     },
     "execution_count": 2,
     "metadata": {},
     "output_type": "execute_result"
    }
   ],
   "source": [
    "df = pd.read_csv('listings_Amsterdam.csv') # Import Data from the csv file\n",
    "df.head()"
   ]
  },
  {
   "cell_type": "code",
   "execution_count": 3,
   "metadata": {},
   "outputs": [
    {
     "name": "stdout",
     "output_type": "stream",
     "text": [
      "(19352, 16)\n"
     ]
    }
   ],
   "source": [
    "print(df.shape) # returns the shape of an array (dimensions)"
   ]
  },
  {
   "cell_type": "code",
   "execution_count": 4,
   "metadata": {},
   "outputs": [
    {
     "name": "stdout",
     "output_type": "stream",
     "text": [
      "<class 'pandas.core.frame.DataFrame'>\n",
      "RangeIndex: 19352 entries, 0 to 19351\n",
      "Data columns (total 16 columns):\n",
      " #   Column                          Non-Null Count  Dtype  \n",
      "---  ------                          --------------  -----  \n",
      " 0   id                              19352 non-null  int64  \n",
      " 1   name                            19319 non-null  object \n",
      " 2   host_id                         19352 non-null  int64  \n",
      " 3   host_name                       19341 non-null  object \n",
      " 4   neighbourhood_group             0 non-null      float64\n",
      " 5   neighbourhood                   19352 non-null  object \n",
      " 6   latitude                        19352 non-null  float64\n",
      " 7   longitude                       19352 non-null  float64\n",
      " 8   room_type                       19352 non-null  object \n",
      " 9   price                           19352 non-null  int64  \n",
      " 10  minimum_nights                  19352 non-null  int64  \n",
      " 11  number_of_reviews               19352 non-null  int64  \n",
      " 12  last_review                     16960 non-null  object \n",
      " 13  reviews_per_month               16960 non-null  float64\n",
      " 14  calculated_host_listings_count  19352 non-null  int64  \n",
      " 15  availability_365                19352 non-null  int64  \n",
      "dtypes: float64(4), int64(7), object(5)\n",
      "memory usage: 2.4+ MB\n",
      "None\n"
     ]
    }
   ],
   "source": [
    "print(df.info()) # Information about the columns (No of columns, Column names and Column types)"
   ]
  },
  {
   "cell_type": "code",
   "execution_count": 5,
   "metadata": {},
   "outputs": [
    {
     "name": "stdout",
     "output_type": "stream",
     "text": [
      "['id', 'host_id', 'neighbourhood_group', 'latitude', 'longitude', 'price', 'minimum_nights', 'number_of_reviews', 'reviews_per_month', 'calculated_host_listings_count', 'availability_365']\n",
      "11\n"
     ]
    }
   ],
   "source": [
    "print(df._get_numeric_data().columns.tolist()) # numeric columns\n",
    "print(len(df._get_numeric_data().columns)) # no of numeric columns"
   ]
  },
  {
   "cell_type": "code",
   "execution_count": 6,
   "metadata": {},
   "outputs": [
    {
     "name": "stdout",
     "output_type": "stream",
     "text": [
      "['room_type', 'name', 'neighbourhood', 'last_review', 'host_name']\n",
      "5\n"
     ]
    }
   ],
   "source": [
    "cat = list(set(df.columns) - set(df._get_numeric_data().columns)) # categorical columns\n",
    "print(cat)\n",
    "print(len(cat)) # no of categorical columns"
   ]
  },
  {
   "cell_type": "code",
   "execution_count": 7,
   "metadata": {},
   "outputs": [],
   "source": [
    "cols = ['id', 'host_id', 'latitude', 'longitude', 'room_type', 'price', 'number_of_reviews', 'availability_365', 'minimum_nights']\n",
    "data = df[cols]"
   ]
  },
  {
   "cell_type": "code",
   "execution_count": 8,
   "metadata": {},
   "outputs": [
    {
     "name": "stdout",
     "output_type": "stream",
     "text": [
      "id, No of Missing Values: 0\n",
      "host_id, No of Missing Values: 0\n",
      "latitude, No of Missing Values: 0\n",
      "longitude, No of Missing Values: 0\n",
      "room_type, No of Missing Values: 0\n",
      "price, No of Missing Values: 0\n",
      "number_of_reviews, No of Missing Values: 0\n",
      "availability_365, No of Missing Values: 0\n",
      "minimum_nights, No of Missing Values: 0\n"
     ]
    }
   ],
   "source": [
    "# determine the number of missing entries in each column\n",
    "for col in data.columns:\n",
    "    print(col + ', No of Missing Values:', len(data[col][data[col].isnull()]))"
   ]
  },
  {
   "cell_type": "code",
   "execution_count": 9,
   "metadata": {},
   "outputs": [
    {
     "name": "stdout",
     "output_type": "stream",
     "text": [
      "All unique values\n"
     ]
    }
   ],
   "source": [
    "if len(data['id']) == len(set(data['id'])):\n",
    "    print('All unique values')\n",
    "else:\n",
    "    print('Some repeat values')"
   ]
  },
  {
   "cell_type": "code",
   "execution_count": 10,
   "metadata": {},
   "outputs": [
    {
     "name": "stdout",
     "output_type": "stream",
     "text": [
      "Some repeat values\n"
     ]
    }
   ],
   "source": [
    "if len(data['host_id']) == len(set(data['host_id'])):\n",
    "    print('All unique values')\n",
    "else:\n",
    "    print('Some repeat values')"
   ]
  },
  {
   "cell_type": "code",
   "execution_count": 11,
   "metadata": {},
   "outputs": [
    {
     "name": "stdout",
     "output_type": "stream",
     "text": [
      "Some repeat values\n"
     ]
    }
   ],
   "source": [
    "if len(data['room_type']) == len(set(data['room_type'])):\n",
    "    print('All unique values')\n",
    "else:\n",
    "    print('Some repeat values')"
   ]
  },
  {
   "cell_type": "code",
   "execution_count": 12,
   "metadata": {},
   "outputs": [
    {
     "data": {
      "text/html": [
       "<div>\n",
       "<style scoped>\n",
       "    .dataframe tbody tr th:only-of-type {\n",
       "        vertical-align: middle;\n",
       "    }\n",
       "\n",
       "    .dataframe tbody tr th {\n",
       "        vertical-align: top;\n",
       "    }\n",
       "\n",
       "    .dataframe thead th {\n",
       "        text-align: right;\n",
       "    }\n",
       "</style>\n",
       "<table border=\"1\" class=\"dataframe\">\n",
       "  <thead>\n",
       "    <tr style=\"text-align: right;\">\n",
       "      <th></th>\n",
       "      <th>room_type</th>\n",
       "      <th>number_Of_Listings</th>\n",
       "    </tr>\n",
       "  </thead>\n",
       "  <tbody>\n",
       "    <tr>\n",
       "      <th>0</th>\n",
       "      <td>Entire home/apt</td>\n",
       "      <td>15107</td>\n",
       "    </tr>\n",
       "    <tr>\n",
       "      <th>1</th>\n",
       "      <td>Hotel room</td>\n",
       "      <td>267</td>\n",
       "    </tr>\n",
       "    <tr>\n",
       "      <th>2</th>\n",
       "      <td>Private room</td>\n",
       "      <td>3918</td>\n",
       "    </tr>\n",
       "    <tr>\n",
       "      <th>3</th>\n",
       "      <td>Shared room</td>\n",
       "      <td>60</td>\n",
       "    </tr>\n",
       "  </tbody>\n",
       "</table>\n",
       "</div>"
      ],
      "text/plain": [
       "         room_type  number_Of_Listings\n",
       "0  Entire home/apt               15107\n",
       "1       Hotel room                 267\n",
       "2     Private room                3918\n",
       "3      Shared room                  60"
      ]
     },
     "execution_count": 12,
     "metadata": {},
     "output_type": "execute_result"
    }
   ],
   "source": [
    "# Categorizing differernt listings based on room_type\n",
    "\n",
    "roomType_DF = data.groupby('room_type').id.count()\n",
    "roomType_DF = roomType_DF.reset_index()\n",
    "roomType_DF = roomType_DF.rename(columns={'id':'number_Of_Listings'})\n",
    "roomType_DF"
   ]
  },
  {
   "cell_type": "code",
   "execution_count": 13,
   "metadata": {},
   "outputs": [
    {
     "data": {
      "image/png": "[encoded data removed]",
      "text/plain": [
       "<Figure size 576x432 with 1 Axes>"
      ]
     },
     "metadata": {},
     "output_type": "display_data"
    }
   ],
   "source": [
    "total = sum(roomType_DF.number_Of_Listings)\n",
    "\n",
    "labels = ['Entire home/apt', 'Hotel room', 'Private room', 'Shared room']\n",
    "sizes = [roomType_DF.number_Of_Listings[0]/total, roomType_DF.number_Of_Listings[1]/total, roomType_DF.number_Of_Listings[2]/total, roomType_DF.number_Of_Listings[3]/total]\n",
    "colors = ['yellowgreen', 'lightskyblue', 'lightcoral', 'yellow']\n",
    "explode = (0.1, 0, 0.1, 0)\n",
    "# Plot\n",
    "plt.figure(figsize=(8, 6))\n",
    "plt.pie(sizes, explode=explode, labels=labels, colors=colors, autopct='%1.2f%%', shadow=False)\n",
    "\n",
    "plt.axis('equal')\n",
    "plt.title('Listings based on Room types')\n",
    "plt.show()"
   ]
  },
  {
   "cell_type": "markdown",
   "metadata": {},
   "source": [
    "##### 2. Correlation plots"
   ]
  },
  {
   "cell_type": "code",
   "execution_count": 14,
   "metadata": {},
   "outputs": [
    {
     "data": {
      "image/png": "[encoded data removed]",
      "text/plain": [
       "<Figure size 1080x1080 with 2 Axes>"
      ]
     },
     "metadata": {
      "needs_background": "light"
     },
     "output_type": "display_data"
    }
   ],
   "source": [
    "import seaborn as sns\n",
    "\n",
    "plt.figure(figsize = (15,15))\n",
    "_ = sns.heatmap(df.corr(), annot=True, vmin= -1 , vmax=1)"
   ]
  },
  {
   "cell_type": "markdown",
   "metadata": {},
   "source": [
    "##### 3. Feature Selection"
   ]
  },
  {
   "cell_type": "code",
   "execution_count": 15,
   "metadata": {},
   "outputs": [],
   "source": [
    "data1 = df[df._get_numeric_data().columns]"
   ]
  },
  {
   "cell_type": "code",
   "execution_count": 16,
   "metadata": {},
   "outputs": [
    {
     "name": "stdout",
     "output_type": "stream",
     "text": [
      "id, No of Missing Values: 0\n",
      "host_id, No of Missing Values: 0\n",
      "neighbourhood_group, No of Missing Values: 19352\n",
      "latitude, No of Missing Values: 0\n",
      "longitude, No of Missing Values: 0\n",
      "price, No of Missing Values: 0\n",
      "minimum_nights, No of Missing Values: 0\n",
      "number_of_reviews, No of Missing Values: 0\n",
      "reviews_per_month, No of Missing Values: 2392\n",
      "calculated_host_listings_count, No of Missing Values: 0\n",
      "availability_365, No of Missing Values: 0\n"
     ]
    }
   ],
   "source": [
    "# determine the number of missing entries in each column\n",
    "for col in data1.columns:\n",
    "    print(col + ', No of Missing Values:', len(data1[col][data1[col].isnull()]))"
   ]
  },
  {
   "cell_type": "code",
   "execution_count": 17,
   "metadata": {},
   "outputs": [],
   "source": [
    "import statsmodels.api as sm \n",
    "\n",
    "y = data1['price']\n",
    "X = data1.drop(['price', 'neighbourhood_group', 'reviews_per_month'] ,1)"
   ]
  },
  {
   "cell_type": "code",
   "execution_count": 18,
   "metadata": {},
   "outputs": [
    {
     "name": "stdout",
     "output_type": "stream",
     "text": [
      "['id', 'host_id', 'number_of_reviews', 'calculated_host_listings_count', 'availability_365']\n"
     ]
    }
   ],
   "source": [
    "#Backward Elimination\n",
    "cols = list(X.columns)\n",
    "pmax = 1\n",
    "p_list = []\n",
    "while (len(cols)>0):\n",
    "    p= []\n",
    "    X_1 = X[cols]\n",
    "    X_1 = sm.add_constant(X_1)\n",
    "    model = sm.OLS(y,X_1).fit()\n",
    "    p = pd.Series(model.pvalues.values[1:],index = cols)    \n",
    "    p_list.append(p)\n",
    "    pmax = max(p)\n",
    "    feature_with_p_max = p.idxmax()\n",
    "    if(pmax>0.05):\n",
    "        cols.remove(feature_with_p_max)\n",
    "    else:\n",
    "        break\n",
    "selected_features_BE = cols\n",
    "print(selected_features_BE)"
   ]
  },
  {
   "cell_type": "code",
   "execution_count": 19,
   "metadata": {},
   "outputs": [
    {
     "name": "stdout",
     "output_type": "stream",
     "text": [
      "Best alpha using built-in LassoCV: 985057229.994765\n",
      "Best score using built-in LassoCV: 0.003549\n",
      "Lasso picked 1 variables and eliminated the other 7 variables\n"
     ]
    }
   ],
   "source": [
    "# Embedded Method\n",
    "from sklearn.linear_model import RidgeCV, LassoCV, Ridge, Lasso\n",
    "\n",
    "reg = LassoCV()\n",
    "reg.fit(X, y)\n",
    "print(\"Best alpha using built-in LassoCV: %f\" % reg.alpha_)\n",
    "print(\"Best score using built-in LassoCV: %f\" %reg.score(X,y))\n",
    "coef = pd.Series(reg.coef_, index = X.columns)\n",
    "print(\"Lasso picked \" + str(sum(coef != 0)) + \" variables and eliminated the other \" +  str(sum(coef == 0)) + \" variables\")"
   ]
  },
  {
   "cell_type": "code",
   "execution_count": 20,
   "metadata": {},
   "outputs": [
    {
     "data": {
      "text/plain": [
       "Text(0.5, 1.0, 'Feature importance using Lasso Model')"
      ]
     },
     "execution_count": 20,
     "metadata": {},
     "output_type": "execute_result"
    },
    {
     "data": {
      "image/png": "[encoded data removed]",
      "text/plain": [
       "<Figure size 576x720 with 1 Axes>"
      ]
     },
     "metadata": {
      "needs_background": "light"
     },
     "output_type": "display_data"
    }
   ],
   "source": [
    "imp_coef = coef.sort_values()\n",
    "import matplotlib\n",
    "matplotlib.rcParams['figure.figsize'] = (8.0, 10.0)\n",
    "imp_coef.plot(kind = \"barh\")\n",
    "plt.title(\"Feature importance using Lasso Model\")"
   ]
  },
  {
   "cell_type": "markdown",
   "metadata": {},
   "source": [
    "##### 3. Different models"
   ]
  },
  {
   "cell_type": "code",
   "execution_count": 21,
   "metadata": {},
   "outputs": [],
   "source": [
    "from sklearn.model_selection import train_test_split\n",
    "from sklearn import metrics\n",
    "from sklearn.linear_model import LinearRegression\n",
    "from sklearn.linear_model import Ridge\n",
    "from sklearn.linear_model import Lasso\n",
    "from sklearn.linear_model import SGDRegressor\n",
    "from sklearn.ensemble import RandomForestRegressor\n",
    "from sklearn import neighbors\n",
    "from sklearn.svm import SVR\n",
    "from sklearn import tree\n",
    "from sklearn.neural_network import MLPRegressor\n",
    "from sklearn.ensemble import GradientBoostingRegressor\n",
    "from sklearn.gaussian_process import GaussianProcessRegressor"
   ]
  },
  {
   "cell_type": "code",
   "execution_count": 22,
   "metadata": {},
   "outputs": [],
   "source": [
    "import signal\n",
    "\n",
    "def signal_handler(signum, frame):\n",
    "    raise Exception(\"Timed out!\")"
   ]
  },
  {
   "cell_type": "code",
   "execution_count": 23,
   "metadata": {},
   "outputs": [],
   "source": [
    "import warnings\n",
    "\n",
    "def model_metrics(X_train, X_val, y_train, y_val, Models):\n",
    "    warnings.filterwarnings('ignore')\n",
    "    for i in range(len(Models)):\n",
    "        if Models[i] == 'Linear Regression':\n",
    "            ML = LinearRegression()\n",
    "            signal.signal(signal.SIGALRM, signal_handler)\n",
    "            signal.alarm(10)   # Ten seconds\n",
    "            try:\n",
    "                long_function_call()\n",
    "            except:\n",
    "                print(\"Timed out!\")\n",
    "        elif Models[i] == 'Ridge Regression':\n",
    "            ML = Ridge(alpha= 1.5)\n",
    "            signal.signal(signal.SIGALRM, signal_handler)\n",
    "            signal.alarm(10)   # Ten seconds\n",
    "            try:\n",
    "                long_function_call()\n",
    "            except:\n",
    "                print(\"Timed out!\")\n",
    "        elif Models[i] == 'Lasso Regression':\n",
    "            ML = Lasso(alpha= 1)\n",
    "            signal.signal(signal.SIGALRM, signal_handler)\n",
    "            signal.alarm(10)   # Ten seconds\n",
    "            try:\n",
    "                long_function_call()\n",
    "            except:\n",
    "                print(\"Timed out!\")\n",
    "        elif Models[i] == 'Stochastic Gradient Descent':\n",
    "            ML = SGDRegressor(max_iter=10000, tol=1e-3)\n",
    "            signal.signal(signal.SIGALRM, signal_handler)\n",
    "            signal.alarm(10)   # Ten seconds\n",
    "            try:\n",
    "                long_function_call()\n",
    "            except:\n",
    "                print(\"Timed out!\")\n",
    "        elif Models[i] == 'Random Forest Regressor':\n",
    "            ML = RandomForestRegressor(n_estimators=10)\n",
    "            signal.signal(signal.SIGALRM, signal_handler)\n",
    "            signal.alarm(10)   # Ten seconds\n",
    "            try:\n",
    "                long_function_call()\n",
    "            except:\n",
    "                print(\"Timed out!\")\n",
    "        elif Models[i] == 'K nearest neighbors':\n",
    "            ML = neighbors.KNeighborsRegressor(n_neighbors = 25)\n",
    "            signal.signal(signal.SIGALRM, signal_handler)\n",
    "            signal.alarm(10)   # Ten seconds\n",
    "            try:\n",
    "                long_function_call()\n",
    "            except:\n",
    "                print(\"Timed out!\")\n",
    "        elif Models[i] == 'Support Vector Regression - Kernel = Linear':\n",
    "            ML = SVR(kernel = 'linear')\n",
    "            signal.signal(signal.SIGALRM, signal_handler)\n",
    "            signal.alarm(10)   # Ten seconds\n",
    "            try:\n",
    "                long_function_call()\n",
    "            except:\n",
    "                print(\"Timed out!\")\n",
    "        elif Models[i] == 'Support Vector Regression - Kernel = Poly':\n",
    "            ML = SVR(kernel = 'poly', degree = 5, gamma = 'scale')\n",
    "            signal.signal(signal.SIGALRM, signal_handler)\n",
    "            signal.alarm(10)   # Ten seconds\n",
    "            try:\n",
    "                long_function_call()\n",
    "            except:\n",
    "                print(\"Timed out!\")\n",
    "        elif Models[i] == 'Support Vector Regression - Kernel = rbf':\n",
    "            ML = SVR(kernel = 'rbf', gamma = 'scale')\n",
    "            signal.signal(signal.SIGALRM, signal_handler)\n",
    "            signal.alarm(10)   # Ten seconds\n",
    "            try:\n",
    "                long_function_call()\n",
    "            except:\n",
    "                print(\"Timed out!\")\n",
    "        elif Models[i] == 'Support Vector Regression - kernel = sigmoid':\n",
    "            ML = SVR(kernel = 'sigmoid', gamma = 'scale')\n",
    "            signal.signal(signal.SIGALRM, signal_handler)\n",
    "            signal.alarm(10)   # Ten seconds\n",
    "            try:\n",
    "                long_function_call()\n",
    "            except:\n",
    "                print(\"Timed out!\")\n",
    "        elif Models[i] == 'Decision Trees':\n",
    "            ML = tree.DecisionTreeRegressor()\n",
    "            signal.signal(signal.SIGALRM, signal_handler)\n",
    "            signal.alarm(10)   # Ten seconds\n",
    "            try:\n",
    "                long_function_call()\n",
    "            except:\n",
    "                print(\"Timed out!\")\n",
    "        elif Models[i] == 'Multi-layer Perceptron':\n",
    "            ML = MLPRegressor(alpha = 0.1)\n",
    "            signal.signal(signal.SIGALRM, signal_handler)\n",
    "            signal.alarm(10)   # Ten seconds\n",
    "            try:\n",
    "                long_function_call()\n",
    "            except:\n",
    "                print(\"Timed out!\")\n",
    "        elif Models[i] == 'Gradient Boosting Regression - loss = ls':\n",
    "            ML = GradientBoostingRegressor(loss='ls')\n",
    "            signal.signal(signal.SIGALRM, signal_handler)\n",
    "            signal.alarm(10)   # Ten seconds\n",
    "            try:\n",
    "                long_function_call()\n",
    "            except:\n",
    "                print(\"Timed out!\")\n",
    "        elif Models[i] == 'Gradient Boosting Regression - loss = lad':\n",
    "            ML = GradientBoostingRegressor(loss='lad')\n",
    "            signal.signal(signal.SIGALRM, signal_handler)\n",
    "            signal.alarm(10)   # Ten seconds\n",
    "            try:\n",
    "                long_function_call()\n",
    "            except:\n",
    "                print(\"Timed out!\")\n",
    "        elif Models[i] == 'Gradient Boosting Regression - loss = huber':\n",
    "            ML = GradientBoostingRegressor(loss='huber')\n",
    "            signal.signal(signal.SIGALRM, signal_handler)\n",
    "            signal.alarm(10)   # Ten seconds\n",
    "            try:\n",
    "                long_function_call()\n",
    "            except:\n",
    "                print(\"Timed out!\")\n",
    "        elif Models[i] == 'Gradient Boosting Regression - loss = quantile':\n",
    "            ML = GradientBoostingRegressor(loss='quantile')\n",
    "            signal.signal(signal.SIGALRM, signal_handler)\n",
    "            signal.alarm(10)   # Ten seconds\n",
    "            try:\n",
    "                long_function_call()\n",
    "            except:\n",
    "                print(\"Timed out!\")\n",
    "        elif Models[i] == 'Gaussian Process Regression':\n",
    "            ML = GaussianProcessRegressor(random_state=42)\n",
    "            signal.signal(signal.SIGALRM, signal_handler)\n",
    "            signal.alarm(10)   # Ten seconds\n",
    "            try:\n",
    "                long_function_call()\n",
    "            except:\n",
    "                print(\"Timed out!\")\n",
    "            \n",
    "        \n",
    "        \n",
    "        X = X_train + X_val\n",
    "        y = y_train + y_val\n",
    "        \n",
    "        ML.fit(X_train, y_train)\n",
    "        y_pred = ML.predict(X_val)\n",
    "        print(Models[i])\n",
    "        print(\"Mean Absolute Error:\", metrics.mean_absolute_error(y_val, y_pred))\n",
    "        print(\"Mean Squared Error:\", metrics.mean_squared_error(y_val, y_pred))\n",
    "        print(\"R^2:\", metrics.r2_score(y_val, y_pred))\n",
    "        adj = 1 - ((len(y)-1)/(len(y)-X.shape[1]-1)*(1 - metrics.r2_score(y_val,y_pred)))\n",
    "        print(\"Adjusted R^2:\", adj)\n",
    "        print('_'*50)"
   ]
  },
  {
   "cell_type": "code",
   "execution_count": 24,
   "metadata": {},
   "outputs": [],
   "source": [
    "def train_val_func(X,y):\n",
    "    X_train, X_val, y_train, y_val = train_test_split(X, y, test_size=0.3, random_state=101)\n",
    "    return (X_train, X_val, y_train, y_val)"
   ]
  },
  {
   "cell_type": "code",
   "execution_count": 25,
   "metadata": {},
   "outputs": [],
   "source": [
    "Models = ['Linear Regression', 'Ridge Regression', 'Lasso Regression',\n",
    "          'Stochastic Gradient Descent', 'Random Forest Regressor',\n",
    "          'K nearest neighbors', 'Decision Trees', 'Multi-layer Perceptron', \n",
    "          'Gaussian Process Regression',\n",
    "          'Support Vector Regression - Kernel = Linear',\n",
    "          'Support Vector Regression - Kernel = Poly', \n",
    "          'Support Vector Regression - Kernel = rbf', \n",
    "          'Support Vector Regression - kernel = sigmoid', \n",
    "          'Gradient Boosting regression - loss = ls', \n",
    "          'Gradient Boosting regression - loss = lad', \n",
    "          'Gradient Boosting regression - loss = huber', \n",
    "          'Gradient Boosting regression - loss = quantile']"
   ]
  },
  {
   "cell_type": "code",
   "execution_count": 26,
   "metadata": {},
   "outputs": [
    {
     "ename": "AttributeError",
     "evalue": "module 'signal' has no attribute 'SIGALRM'",
     "output_type": "error",
     "traceback": [
      "\u001b[1;31m---------------------------------------------------------------------------\u001b[0m",
      "\u001b[1;31mAttributeError\u001b[0m                            Traceback (most recent call last)",
      "\u001b[1;32m<ipython-input-26-68230ee8e3bf>\u001b[0m in \u001b[0;36m<module>\u001b[1;34m\u001b[0m\n\u001b[0;32m      3\u001b[0m \u001b[1;33m\u001b[0m\u001b[0m\n\u001b[0;32m      4\u001b[0m \u001b[0mX_train\u001b[0m\u001b[1;33m,\u001b[0m \u001b[0mX_val\u001b[0m\u001b[1;33m,\u001b[0m \u001b[0my_train\u001b[0m\u001b[1;33m,\u001b[0m \u001b[0my_val\u001b[0m \u001b[1;33m=\u001b[0m \u001b[0mtrain_val_func\u001b[0m\u001b[1;33m(\u001b[0m\u001b[0mX\u001b[0m\u001b[1;33m,\u001b[0m \u001b[0my\u001b[0m\u001b[1;33m)\u001b[0m\u001b[1;33m\u001b[0m\u001b[1;33m\u001b[0m\u001b[0m\n\u001b[1;32m----> 5\u001b[1;33m \u001b[0mmodel_metrics\u001b[0m\u001b[1;33m(\u001b[0m\u001b[0mX_train\u001b[0m\u001b[1;33m,\u001b[0m \u001b[0mX_val\u001b[0m\u001b[1;33m,\u001b[0m \u001b[0my_train\u001b[0m\u001b[1;33m,\u001b[0m \u001b[0my_val\u001b[0m\u001b[1;33m,\u001b[0m \u001b[0mModels\u001b[0m\u001b[1;33m)\u001b[0m\u001b[1;33m\u001b[0m\u001b[1;33m\u001b[0m\u001b[0m\n\u001b[0m",
      "\u001b[1;32m<ipython-input-23-f3fce7c997d9>\u001b[0m in \u001b[0;36mmodel_metrics\u001b[1;34m(X_train, X_val, y_train, y_val, Models)\u001b[0m\n\u001b[0;32m      6\u001b[0m         \u001b[1;32mif\u001b[0m \u001b[0mModels\u001b[0m\u001b[1;33m[\u001b[0m\u001b[0mi\u001b[0m\u001b[1;33m]\u001b[0m \u001b[1;33m==\u001b[0m \u001b[1;34m'Linear Regression'\u001b[0m\u001b[1;33m:\u001b[0m\u001b[1;33m\u001b[0m\u001b[1;33m\u001b[0m\u001b[0m\n\u001b[0;32m      7\u001b[0m             \u001b[0mML\u001b[0m \u001b[1;33m=\u001b[0m \u001b[0mLinearRegression\u001b[0m\u001b[1;33m(\u001b[0m\u001b[1;33m)\u001b[0m\u001b[1;33m\u001b[0m\u001b[1;33m\u001b[0m\u001b[0m\n\u001b[1;32m----> 8\u001b[1;33m             \u001b[0msignal\u001b[0m\u001b[1;33m.\u001b[0m\u001b[0msignal\u001b[0m\u001b[1;33m(\u001b[0m\u001b[0msignal\u001b[0m\u001b[1;33m.\u001b[0m\u001b[0mSIGALRM\u001b[0m\u001b[1;33m,\u001b[0m \u001b[0msignal_handler\u001b[0m\u001b[1;33m)\u001b[0m\u001b[1;33m\u001b[0m\u001b[1;33m\u001b[0m\u001b[0m\n\u001b[0m\u001b[0;32m      9\u001b[0m             \u001b[0msignal\u001b[0m\u001b[1;33m.\u001b[0m\u001b[0malarm\u001b[0m\u001b[1;33m(\u001b[0m\u001b[1;36m10\u001b[0m\u001b[1;33m)\u001b[0m   \u001b[1;31m# Ten seconds\u001b[0m\u001b[1;33m\u001b[0m\u001b[1;33m\u001b[0m\u001b[0m\n\u001b[0;32m     10\u001b[0m             \u001b[1;32mtry\u001b[0m\u001b[1;33m:\u001b[0m\u001b[1;33m\u001b[0m\u001b[1;33m\u001b[0m\u001b[0m\n",
      "\u001b[1;31mAttributeError\u001b[0m: module 'signal' has no attribute 'SIGALRM'"
     ]
    }
   ],
   "source": [
    "y = data1['price']\n",
    "X = data1.drop(['price', 'neighbourhood_group', 'reviews_per_month'] ,1)\n",
    "\n",
    "X_train, X_val, y_train, y_val = train_val_func(X, y)\n",
    "model_metrics(X_train, X_val, y_train, y_val, Models)"
   ]
  },
  {
   "cell_type": "code",
   "execution_count": null,
   "metadata": {},
   "outputs": [],
   "source": []
  }
 ],
 "metadata": {
  "kernelspec": {
   "display_name": "Python 3",
   "language": "python",
   "name": "python3"
  },
  "language_info": {
   "codemirror_mode": {
    "name": "ipython",
    "version": 3
   },
   "file_extension": ".py",
   "mimetype": "text/x-python",
   "name": "python",
   "nbconvert_exporter": "python",
   "pygments_lexer": "ipython3",
   "version": "3.7.6"
  }
 },
 "nbformat": 4,
 "nbformat_minor": 2
}
